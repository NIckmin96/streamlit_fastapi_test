{
 "cells": [
  {
   "cell_type": "code",
   "execution_count": 6,
   "metadata": {},
   "outputs": [
    {
     "name": "stdout",
     "output_type": "stream",
     "text": [
      "Collecting python-multipart\n",
      "  Downloading python-multipart-0.0.5.tar.gz (32 kB)\n",
      "Requirement already satisfied: six>=1.4.0 in /opt/ml/fastapi/lib/python3.8/site-packages (from python-multipart) (1.16.0)\n",
      "Using legacy setup.py install for python-multipart, since package 'wheel' is not installed.\n",
      "Installing collected packages: python-multipart\n",
      "    Running setup.py install for python-multipart ... \u001b[?25ldone\n",
      "\u001b[?25hSuccessfully installed python-multipart-0.0.5\n",
      "\u001b[33mWARNING: You are using pip version 20.1.1; however, version 22.3.1 is available.\n",
      "You should consider upgrading via the '/opt/ml/fastapi/bin/python -m pip install --upgrade pip' command.\u001b[0m\n"
     ]
    }
   ],
   "source": [
    "# !pip install python-multipart"
   ]
  },
  {
   "cell_type": "code",
   "execution_count": 7,
   "metadata": {},
   "outputs": [],
   "source": [
    "from fastapi import FastAPI, Form, Request\n",
    "from fastapi.templating import Jinja2Templates\n",
    "from pydantic import BaseModel\n",
    "import uvicorn"
   ]
  },
  {
   "cell_type": "code",
   "execution_count": 8,
   "metadata": {},
   "outputs": [],
   "source": [
    "app = FastAPI()"
   ]
  },
  {
   "cell_type": "code",
   "execution_count": 9,
   "metadata": {},
   "outputs": [
    {
     "ename": "RuntimeError",
     "evalue": "asyncio.run() cannot be called from a running event loop",
     "output_type": "error",
     "traceback": [
      "\u001b[0;31m---------------------------------------------------------------------------\u001b[0m",
      "\u001b[0;31mRuntimeError\u001b[0m                              Traceback (most recent call last)",
      "Cell \u001b[0;32mIn[9], line 13\u001b[0m\n\u001b[1;32m      9\u001b[0m \u001b[39m@app\u001b[39m\u001b[39m.\u001b[39mpost(\u001b[39m\"\u001b[39m\u001b[39m/login/\u001b[39m\u001b[39m\"\u001b[39m)\n\u001b[1;32m     10\u001b[0m \u001b[39mdef\u001b[39;00m \u001b[39mlogin\u001b[39m(username:\u001b[39mstr\u001b[39m \u001b[39m=\u001b[39m  Form(\u001b[39m.\u001b[39m\u001b[39m.\u001b[39m\u001b[39m.\u001b[39m), password:\u001b[39mstr\u001b[39m \u001b[39m=\u001b[39m  Form(\u001b[39m.\u001b[39m\u001b[39m.\u001b[39m\u001b[39m.\u001b[39m)):\n\u001b[1;32m     11\u001b[0m     \u001b[39mreturn\u001b[39;00m \u001b[39mf\u001b[39m\u001b[39m\"\u001b[39m\u001b[39mLoggin in as \u001b[39m\u001b[39m{\u001b[39;00musername\u001b[39m}\u001b[39;00m\u001b[39m...\u001b[39m\u001b[39m\"\u001b[39m\n\u001b[0;32m---> 13\u001b[0m uvicorn\u001b[39m.\u001b[39;49mrun(app, host \u001b[39m=\u001b[39;49m \u001b[39m\"\u001b[39;49m\u001b[39m0.0.0.0\u001b[39;49m\u001b[39m\"\u001b[39;49m, port\u001b[39m=\u001b[39;49m\u001b[39m8000\u001b[39;49m)\n\u001b[1;32m     15\u001b[0m \u001b[39m# if __name__ == \"__main__\" : \u001b[39;00m\n\u001b[1;32m     16\u001b[0m \u001b[39m#     uvicorn.run(app, host = \"0.0.0.0\", port=8000)\u001b[39;00m\n",
      "File \u001b[0;32m~/fastapi/lib/python3.8/site-packages/uvicorn/main.py:569\u001b[0m, in \u001b[0;36mrun\u001b[0;34m(app, host, port, uds, fd, loop, http, ws, ws_max_size, ws_ping_interval, ws_ping_timeout, ws_per_message_deflate, lifespan, interface, reload, reload_dirs, reload_includes, reload_excludes, reload_delay, workers, env_file, log_config, log_level, access_log, proxy_headers, server_header, date_header, forwarded_allow_ips, root_path, limit_concurrency, backlog, limit_max_requests, timeout_keep_alive, ssl_keyfile, ssl_certfile, ssl_keyfile_password, ssl_version, ssl_cert_reqs, ssl_ca_certs, ssl_ciphers, headers, use_colors, app_dir, factory, h11_max_incomplete_event_size)\u001b[0m\n\u001b[1;32m    567\u001b[0m     Multiprocess(config, target\u001b[39m=\u001b[39mserver\u001b[39m.\u001b[39mrun, sockets\u001b[39m=\u001b[39m[sock])\u001b[39m.\u001b[39mrun()\n\u001b[1;32m    568\u001b[0m \u001b[39melse\u001b[39;00m:\n\u001b[0;32m--> 569\u001b[0m     server\u001b[39m.\u001b[39;49mrun()\n\u001b[1;32m    570\u001b[0m \u001b[39mif\u001b[39;00m config\u001b[39m.\u001b[39muds \u001b[39mand\u001b[39;00m os\u001b[39m.\u001b[39mpath\u001b[39m.\u001b[39mexists(config\u001b[39m.\u001b[39muds):\n\u001b[1;32m    571\u001b[0m     os\u001b[39m.\u001b[39mremove(config\u001b[39m.\u001b[39muds)  \u001b[39m# pragma: py-win32\u001b[39;00m\n",
      "File \u001b[0;32m~/fastapi/lib/python3.8/site-packages/uvicorn/server.py:60\u001b[0m, in \u001b[0;36mServer.run\u001b[0;34m(self, sockets)\u001b[0m\n\u001b[1;32m     58\u001b[0m \u001b[39mdef\u001b[39;00m \u001b[39mrun\u001b[39m(\u001b[39mself\u001b[39m, sockets: Optional[List[socket\u001b[39m.\u001b[39msocket]] \u001b[39m=\u001b[39m \u001b[39mNone\u001b[39;00m) \u001b[39m-\u001b[39m\u001b[39m>\u001b[39m \u001b[39mNone\u001b[39;00m:\n\u001b[1;32m     59\u001b[0m     \u001b[39mself\u001b[39m\u001b[39m.\u001b[39mconfig\u001b[39m.\u001b[39msetup_event_loop()\n\u001b[0;32m---> 60\u001b[0m     \u001b[39mreturn\u001b[39;00m asyncio\u001b[39m.\u001b[39;49mrun(\u001b[39mself\u001b[39;49m\u001b[39m.\u001b[39;49mserve(sockets\u001b[39m=\u001b[39;49msockets))\n",
      "File \u001b[0;32m/opt/conda/lib/python3.8/asyncio/runners.py:33\u001b[0m, in \u001b[0;36mrun\u001b[0;34m(main, debug)\u001b[0m\n\u001b[1;32m      9\u001b[0m \u001b[39m\u001b[39m\u001b[39m\"\"\"Execute the coroutine and return the result.\u001b[39;00m\n\u001b[1;32m     10\u001b[0m \n\u001b[1;32m     11\u001b[0m \u001b[39mThis function runs the passed coroutine, taking care of\u001b[39;00m\n\u001b[0;32m   (...)\u001b[0m\n\u001b[1;32m     30\u001b[0m \u001b[39m    asyncio.run(main())\u001b[39;00m\n\u001b[1;32m     31\u001b[0m \u001b[39m\"\"\"\u001b[39;00m\n\u001b[1;32m     32\u001b[0m \u001b[39mif\u001b[39;00m events\u001b[39m.\u001b[39m_get_running_loop() \u001b[39mis\u001b[39;00m \u001b[39mnot\u001b[39;00m \u001b[39mNone\u001b[39;00m:\n\u001b[0;32m---> 33\u001b[0m     \u001b[39mraise\u001b[39;00m \u001b[39mRuntimeError\u001b[39;00m(\n\u001b[1;32m     34\u001b[0m         \u001b[39m\"\u001b[39m\u001b[39masyncio.run() cannot be called from a running event loop\u001b[39m\u001b[39m\"\u001b[39m)\n\u001b[1;32m     36\u001b[0m \u001b[39mif\u001b[39;00m \u001b[39mnot\u001b[39;00m coroutines\u001b[39m.\u001b[39miscoroutine(main):\n\u001b[1;32m     37\u001b[0m     \u001b[39mraise\u001b[39;00m \u001b[39mValueError\u001b[39;00m(\u001b[39m\"\u001b[39m\u001b[39ma coroutine was expected, got \u001b[39m\u001b[39m{!r}\u001b[39;00m\u001b[39m\"\u001b[39m\u001b[39m.\u001b[39mformat(main))\n",
      "\u001b[0;31mRuntimeError\u001b[0m: asyncio.run() cannot be called from a running event loop"
     ]
    }
   ],
   "source": [
    "# 1. login\n",
    "\n",
    "templates = Jinja2Templates(directory='./')\n",
    "\n",
    "@app.get(\"/login/\")\n",
    "def get_login_form(request: Request):\n",
    "    return templates.TemplateResponse('login_form.html', context={'request':request})\n",
    "    \n",
    "@app.post(\"/login/\")\n",
    "def login(username:str =  Form(...), password:str =  Form(...)):\n",
    "    return f\"Loggin in as {username}...\"\n",
    "\n",
    "uvicorn.run(app, host = \"0.0.0.0\", port=8000)\n",
    "\n",
    "# if __name__ == \"__main__\" : \n",
    "#     uvicorn.run(app, host = \"0.0.0.0\", port=8000)"
   ]
  },
  {
   "cell_type": "code",
   "execution_count": null,
   "metadata": {},
   "outputs": [],
   "source": []
  }
 ],
 "metadata": {
  "kernelspec": {
   "display_name": "api",
   "language": "python",
   "name": "api"
  },
  "language_info": {
   "codemirror_mode": {
    "name": "ipython",
    "version": 3
   },
   "file_extension": ".py",
   "mimetype": "text/x-python",
   "name": "python",
   "nbconvert_exporter": "python",
   "pygments_lexer": "ipython3",
   "version": "3.8.5"
  },
  "orig_nbformat": 4,
  "vscode": {
   "interpreter": {
    "hash": "d4d1e4263499bec80672ea0156c357c1ee493ec2b1c70f0acce89fc37c4a6abe"
   }
  }
 },
 "nbformat": 4,
 "nbformat_minor": 2
}
